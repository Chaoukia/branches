{
 "cells": [
  {
   "cell_type": "code",
   "execution_count": 1,
   "id": "900c14f2-5241-4edd-9279-c412740709ca",
   "metadata": {},
   "outputs": [],
   "source": [
    "import matplotlib.pyplot as plt\n",
    "import pandas as pd\n",
    "%matplotlib inline\n",
    "from branches import *\n",
    "from time import time\n",
    "from sklearn.preprocessing import OneHotEncoder, OrdinalEncoder, LabelEncoder\n",
    "from itertools import chain\n",
    "from time import time"
   ]
  },
  {
   "cell_type": "markdown",
   "id": "0897102b-2515-43f9-9ac5-d3d0ccf56253",
   "metadata": {},
   "source": [
    "# MONK 1"
   ]
  },
  {
   "cell_type": "code",
   "execution_count": 15,
   "id": "c67a1d26-21eb-4d18-b1f2-c0982d9403e9",
   "metadata": {},
   "outputs": [
    {
     "name": "stdout",
     "output_type": "stream",
     "text": [
      "(124, 7)\n"
     ]
    }
   ],
   "source": [
    "data = np.genfromtxt('../data/monks-1.train', delimiter=' ', dtype=int)\n",
    "data = data[:, :-1] # Getting rid of the last column, it contains only ids.\n",
    "data = data[:, ::-1]\n",
    "\n",
    "print(data.shape)"
   ]
  },
  {
   "cell_type": "markdown",
   "id": "77f45ee5-519a-4072-af88-41b06d1ff395",
   "metadata": {},
   "source": [
    "## Ordinal"
   ]
  },
  {
   "cell_type": "code",
   "execution_count": 8,
   "id": "d292e993-8768-4609-ad8f-72faa43ca198",
   "metadata": {},
   "outputs": [],
   "source": [
    "encoder = OrdinalEncoder()\n",
    "encoder.fit(data)\n",
    "data = encoder.transform(data).astype(int)"
   ]
  },
  {
   "cell_type": "code",
   "execution_count": 9,
   "id": "0b38b624-0e14-4007-abd5-9a4aaba5e68e",
   "metadata": {},
   "outputs": [],
   "source": [
    "lambd = 0.01\n",
    "alg = Branches(data, encoding='ordinal')"
   ]
  },
  {
   "cell_type": "code",
   "execution_count": 10,
   "id": "53ecd194-6da3-42aa-bcea-e70550544a3d",
   "metadata": {},
   "outputs": [
    {
     "name": "stdout",
     "output_type": "stream",
     "text": [
      "The search finished after 64 iterations.\n",
      "Execution time : 0.0223\n"
     ]
    }
   ],
   "source": [
    "start_time = time()\n",
    "alg.solve(lambd)\n",
    "print('Execution time : %.4f' %(time() -start_time))"
   ]
  },
  {
   "cell_type": "code",
   "execution_count": 11,
   "id": "85a8924e-c647-41a3-88bc-28e6805be32f",
   "metadata": {},
   "outputs": [
    {
     "data": {
      "image/png": "[encoded data removed]",
      "text/plain": [
       "Tree('', [Tree('X_4=0', [Tree('X_5=0', []), Tree('X_5=1', [Tree('X_1=0', []), Tree('X_1=1', []), Tree('X_1=2', []), Tree('X_1=3', [])]), Tree('X_5=2', [Tree('X_1=0', []), Tree('X_1=1', []), Tree('X_1=2', []), Tree('X_1=3', [])])]), Tree('X_4=1', [Tree('X_5=0', [Tree('X_1=0', []), Tree('X_1=1', []), Tree('X_1=2', []), Tree('X_1=3', [])]), Tree('X_5=1', []), Tree('X_5=2', [Tree('X_1=0', []), Tree('X_1=1', []), Tree('X_1=2', []), Tree('X_1=3', [])])]), Tree('X_4=2', [Tree('X_5=0', [Tree('X_1=0', []), Tree('X_1=1', []), Tree('X_1=2', []), Tree('X_1=3', [])]), Tree('X_5=1', [Tree('X_1=0', []), Tree('X_1=1', []), Tree('X_1=2', []), Tree('X_1=3', [])]), Tree('X_5=2', [])])])"
      ]
     },
     "execution_count": 11,
     "metadata": {},
     "output_type": "execute_result"
    }
   ],
   "source": [
    "alg.lattice.plot_tree()"
   ]
  },
  {
   "cell_type": "code",
   "execution_count": 12,
   "id": "9b00681a-7e8b-45e4-9b88-9b9873f2edb2",
   "metadata": {},
   "outputs": [
    {
     "name": "stdout",
     "output_type": "stream",
     "text": [
      "Number of branches : 27\n",
      "Number of splits : 10\n"
     ]
    }
   ],
   "source": [
    "branches, splits = alg.lattice.infer()\n",
    "print('Number of branches :', len(branches))\n",
    "print('Number of splits :', splits)"
   ]
  },
  {
   "cell_type": "code",
   "execution_count": 13,
   "id": "69272203-82be-4d9d-b919-f376a84acf3b",
   "metadata": {},
   "outputs": [
    {
     "name": "stdout",
     "output_type": "stream",
     "text": [
      "0.9999999999999996\n"
     ]
    }
   ],
   "source": [
    "s = 0\n",
    "for branch in branches:\n",
    "    s += branch.value_terminal\n",
    "    \n",
    "print(s)"
   ]
  },
  {
   "cell_type": "code",
   "execution_count": 14,
   "id": "1b740922-b2bd-45cf-8b88-82d5591092a9",
   "metadata": {},
   "outputs": [],
   "source": [
    "alg.reinitialise()"
   ]
  },
  {
   "cell_type": "markdown",
   "id": "bec22450-2881-4437-b478-67e4a64f1f5c",
   "metadata": {},
   "source": [
    "## Drop Last"
   ]
  },
  {
   "cell_type": "code",
   "execution_count": 16,
   "id": "5178bc3f-950a-40fb-84e6-f59750342f96",
   "metadata": {},
   "outputs": [
    {
     "name": "stdout",
     "output_type": "stream",
     "text": [
      "(124, 12)\n"
     ]
    }
   ],
   "source": [
    "encoder = OneHotEncoder(drop=np.array([3, 3, 2, 3, 4, 2][::-1]+[0]), sparse=False)\n",
    "encoder.fit(data)\n",
    "data = encoder.transform(data).astype(int)\n",
    "print(data.shape)"
   ]
  },
  {
   "cell_type": "code",
   "execution_count": 17,
   "id": "1856a3c8-8051-4bbc-a1f3-a75bba259d25",
   "metadata": {},
   "outputs": [],
   "source": [
    "lambd = 0.01\n",
    "alg = Branches(data, encoding='binary')"
   ]
  },
  {
   "cell_type": "code",
   "execution_count": 18,
   "id": "7e9d352d-e210-4d0f-9212-3c791454398d",
   "metadata": {},
   "outputs": [
    {
     "name": "stdout",
     "output_type": "stream",
     "text": [
      "Iteration 100\n",
      "Iteration 200\n",
      "Iteration 300\n",
      "Iteration 400\n",
      "Iteration 500\n",
      "Iteration 600\n",
      "The search finished after 617 iterations.\n",
      "Execution time : 0.1005\n"
     ]
    }
   ],
   "source": [
    "start_time = time()\n",
    "alg.solve(lambd)\n",
    "print('Execution time : %.4f' %(time() -start_time))"
   ]
  },
  {
   "cell_type": "code",
   "execution_count": 19,
   "id": "2256020f-b5c8-4df2-bef1-aa41d27d1439",
   "metadata": {},
   "outputs": [
    {
     "data": {
      "image/png": "[encoded data removed]",
      "text/plain": [
       "Tree('', [Tree('X_1=0', [Tree('X_7=0', [Tree('X_10=0', [Tree('X_8=0', [Tree('X_9=0', []), Tree('X_9=1', [])]), Tree('X_8=1', [])]), Tree('X_10=1', [Tree('X_8=0', []), Tree('X_8=1', [])])]), Tree('X_7=1', [Tree('X_9=0', []), Tree('X_9=1', [])])]), Tree('X_1=1', [])])"
      ]
     },
     "execution_count": 19,
     "metadata": {},
     "output_type": "execute_result"
    }
   ],
   "source": [
    "alg.lattice.plot_tree()"
   ]
  },
  {
   "cell_type": "code",
   "execution_count": 20,
   "id": "63ea6ef4-a12a-4269-9343-edf8312f6e6b",
   "metadata": {},
   "outputs": [
    {
     "name": "stdout",
     "output_type": "stream",
     "text": [
      "Number of branches : 8\n",
      "Number of splits : 7\n"
     ]
    }
   ],
   "source": [
    "branches, splits = alg.lattice.infer()\n",
    "print('Number of branches :', len(branches))\n",
    "print('Number of splits :', splits)"
   ]
  },
  {
   "cell_type": "code",
   "execution_count": 21,
   "id": "c888e7cc-deea-4c49-9f68-5f157d84a69f",
   "metadata": {},
   "outputs": [
    {
     "name": "stdout",
     "output_type": "stream",
     "text": [
      "1.0\n"
     ]
    }
   ],
   "source": [
    "s = 0\n",
    "for branch in branches:\n",
    "    s += branch.value_terminal\n",
    "    \n",
    "print(s)"
   ]
  },
  {
   "cell_type": "code",
   "execution_count": 22,
   "id": "2c5f79f3-1990-4e84-a16d-1b22bc68f3f8",
   "metadata": {},
   "outputs": [],
   "source": [
    "alg.reinitialise()"
   ]
  },
  {
   "cell_type": "markdown",
   "id": "f26d82a8-17b6-40d1-b381-1e02f267fa55",
   "metadata": {},
   "source": [
    "# Car Evaluation"
   ]
  },
  {
   "cell_type": "code",
   "execution_count": 23,
   "id": "85ae6926-62c7-4951-a48f-cf6fd096db61",
   "metadata": {},
   "outputs": [
    {
     "name": "stdout",
     "output_type": "stream",
     "text": [
      "(1728, 7)\n"
     ]
    }
   ],
   "source": [
    "data = np.genfromtxt('../data/car.data', delimiter=',', dtype=str)\n",
    "print(data.shape)"
   ]
  },
  {
   "cell_type": "code",
   "execution_count": 24,
   "id": "df605dae-563c-426b-8059-1a04a85011e4",
   "metadata": {},
   "outputs": [
    {
     "name": "stdout",
     "output_type": "stream",
     "text": [
      "Number of classes : 4\n"
     ]
    }
   ],
   "source": [
    "X, y = data[:, :-1], data[:, -1]\n",
    "print('Number of classes :', len(set(y)))"
   ]
  },
  {
   "cell_type": "code",
   "execution_count": 25,
   "id": "3d69af3c-1209-4f27-800c-ba564f04af2f",
   "metadata": {},
   "outputs": [
    {
     "name": "stdout",
     "output_type": "stream",
     "text": [
      "(1728, 16)\n"
     ]
    }
   ],
   "source": [
    "encoder_X, encoder_y = OneHotEncoder(drop='first', sparse=False), LabelEncoder()\n",
    "encoder_X.fit(X)\n",
    "encoder_y.fit(y)\n",
    "X = encoder_X.transform(X).astype(int)\n",
    "y = encoder_y.transform(y)\n",
    "\n",
    "data = np.hstack((X, y.reshape(-1, 1)))\n",
    "print(data.shape)"
   ]
  },
  {
   "cell_type": "code",
   "execution_count": 26,
   "id": "7cddb24a-f905-4281-b33f-21c39e1313fe",
   "metadata": {},
   "outputs": [],
   "source": [
    "lambd = 0.005\n",
    "time_limit = 300\n",
    "alg = Branches(data, encoding='multi')"
   ]
  },
  {
   "cell_type": "code",
   "execution_count": 27,
   "id": "a2c5dbf2-4857-4a93-a1a8-33881ef0f89b",
   "metadata": {
    "scrolled": true,
    "tags": []
   },
   "outputs": [
    {
     "name": "stdout",
     "output_type": "stream",
     "text": [
      "Iteration 10000\n",
      "Iteration 20000\n",
      "Iteration 30000\n",
      "Iteration 40000\n",
      "Iteration 50000\n",
      "Iteration 60000\n",
      "Iteration 70000\n",
      "Iteration 80000\n",
      "Iteration 90000\n",
      "Iteration 100000\n",
      "Iteration 110000\n",
      "Iteration 120000\n",
      "Iteration 130000\n",
      "Iteration 140000\n",
      "Iteration 150000\n",
      "Iteration 160000\n",
      "Iteration 170000\n",
      "Iteration 180000\n",
      "Iteration 190000\n",
      "Iteration 200000\n",
      "Iteration 210000\n",
      "Iteration 220000\n",
      "Iteration 230000\n",
      "Iteration 240000\n",
      "Iteration 250000\n",
      "Iteration 260000\n",
      "Iteration 270000\n",
      "Iteration 280000\n",
      "Iteration 290000\n",
      "Iteration 300000\n",
      "Iteration 310000\n",
      "The search finished after 312623 iterations.\n",
      "Execution time : 63.0338\n"
     ]
    }
   ],
   "source": [
    "start_time = time()\n",
    "alg.solve(lambd, n=5000000, print_iter=10000, time_limit=time_limit)\n",
    "print('Execution time : %.4f' %(time() - start_time))"
   ]
  },
  {
   "cell_type": "code",
   "execution_count": 28,
   "id": "f906417e-72d7-43a6-bb01-ff87dc05ab00",
   "metadata": {},
   "outputs": [
    {
     "data": {
      "image/png": "[encoded data removed]",
      "text/plain": [
       "Tree('', [Tree('X_13=0', [Tree('X_9=0', [Tree('X_10=0', []), Tree('X_10=1', [Tree('X_1=0', [Tree('X_12=0', [Tree('X_5=0', [Tree('X_0=0', []), Tree('X_0=1', [])]), Tree('X_5=1', [Tree('X_0=0', []), Tree('X_0=1', [])])]), Tree('X_12=1', [])]), Tree('X_1=1', [])])]), Tree('X_9=1', [Tree('X_0=0', [Tree('X_1=0', [Tree('X_5=0', [Tree('X_12=0', []), Tree('X_12=1', [Tree('X_14=0', []), Tree('X_14=1', [])])]), Tree('X_5=1', [])]), Tree('X_1=1', [])]), Tree('X_0=1', [])])]), Tree('X_13=1', [])])"
      ]
     },
     "execution_count": 28,
     "metadata": {},
     "output_type": "execute_result"
    }
   ],
   "source": [
    "alg.lattice.plot_tree()"
   ]
  },
  {
   "cell_type": "code",
   "execution_count": 29,
   "id": "d554ec28-c3ab-4998-8820-51dac77044cd",
   "metadata": {},
   "outputs": [
    {
     "name": "stdout",
     "output_type": "stream",
     "text": [
      "Number of branches : 14\n",
      "Number of splits : 13\n"
     ]
    }
   ],
   "source": [
    "branches, splits = alg.lattice.infer()\n",
    "print('Number of branches :', len(branches))\n",
    "print('Number of splits :', splits)"
   ]
  },
  {
   "cell_type": "code",
   "execution_count": 30,
   "id": "80bea085-1ce4-45b7-91db-2c3d4e78436b",
   "metadata": {},
   "outputs": [
    {
     "name": "stdout",
     "output_type": "stream",
     "text": [
      "0.8611111111111112\n"
     ]
    }
   ],
   "source": [
    "s = 0\n",
    "for branch in branches:\n",
    "    s += branch.value_terminal\n",
    "    \n",
    "print(s)"
   ]
  },
  {
   "cell_type": "code",
   "execution_count": null,
   "id": "62369222-a080-4807-be80-5bd8f08876f0",
   "metadata": {},
   "outputs": [],
   "source": []
  }
 ],
 "metadata": {
  "kernelspec": {
   "display_name": "Python 3 (ipykernel)",
   "language": "python",
   "name": "python3"
  },
  "language_info": {
   "codemirror_mode": {
    "name": "ipython",
    "version": 3
   },
   "file_extension": ".py",
   "mimetype": "text/x-python",
   "name": "python",
   "nbconvert_exporter": "python",
   "pygments_lexer": "ipython3",
   "version": "3.8.11"
  }
 },
 "nbformat": 4,
 "nbformat_minor": 5
}
